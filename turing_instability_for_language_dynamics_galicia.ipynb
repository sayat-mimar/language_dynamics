{
 "cells": [
  {
   "cell_type": "code",
   "execution_count": 1,
   "metadata": {},
   "outputs": [],
   "source": [
    "import igraph as ig\n",
    "import numpy as np\n",
    "from sympy.solvers import nsolve\n",
    "from sympy import *"
   ]
  },
  {
   "cell_type": "code",
   "execution_count": 19,
   "metadata": {},
   "outputs": [],
   "source": [
    "from scipy.stats import rankdata"
   ]
  },
  {
   "cell_type": "code",
   "execution_count": 18,
   "metadata": {},
   "outputs": [],
   "source": [
    "from matplotlib.font_manager import FontProperties\n",
    "import matplotlib.gridspec as gridspec"
   ]
  },
  {
   "cell_type": "code",
   "execution_count": 2,
   "metadata": {},
   "outputs": [],
   "source": [
    "from math import radians, cos, sin, asin, sqrt\n",
    "\n",
    "def haversine(lon1, lat1, lon2, lat2):\n",
    "    \"\"\"\n",
    "    Calculate the great circle distance between two points \n",
    "    on the earth (specified in decimal degrees)\n",
    "    \"\"\"\n",
    "    # convert decimal degrees to radians \n",
    "    lon1, lat1, lon2, lat2 = map(radians, [lon1, lat1, lon2, lat2])\n",
    "\n",
    "    # haversine formula \n",
    "    dlon = lon2 - lon1 \n",
    "    dlat = lat2 - lat1 \n",
    "    a = sin(dlat/2)**2 + cos(lat1) * cos(lat2) * sin(dlon/2)**2\n",
    "    c = 2 * asin(sqrt(a)) \n",
    "    r = 6371 # Radius of earth in kilometers. Use 3956 for miles\n",
    "    return c * r"
   ]
  },
  {
   "cell_type": "code",
   "execution_count": 3,
   "metadata": {},
   "outputs": [],
   "source": [
    "from scipy.stats import norm"
   ]
  },
  {
   "cell_type": "code",
   "execution_count": 4,
   "metadata": {},
   "outputs": [],
   "source": [
    "from __future__ import division"
   ]
  },
  {
   "cell_type": "code",
   "execution_count": 5,
   "metadata": {},
   "outputs": [],
   "source": [
    "import powerlaw as pl\n",
    "%matplotlib inline\n",
    "import matplotlib.pyplot as plt"
   ]
  },
  {
   "cell_type": "code",
   "execution_count": 6,
   "metadata": {},
   "outputs": [],
   "source": [
    "from sympy.solvers import nsolve\n",
    "from sympy import *"
   ]
  },
  {
   "cell_type": "code",
   "execution_count": 7,
   "metadata": {},
   "outputs": [],
   "source": [
    "from scipy import special\n",
    "from scipy import stats\n",
    "import pandas as pd"
   ]
  },
  {
   "cell_type": "code",
   "execution_count": 8,
   "metadata": {},
   "outputs": [],
   "source": [
    "import scipy as sp\n",
    "from scipy import stats"
   ]
  },
  {
   "cell_type": "code",
   "execution_count": 9,
   "metadata": {},
   "outputs": [],
   "source": [
    "from scipy.spatial import distance\n",
    "def dist(v1,v2):\n",
    "    dist = distance.euclidean((v1[0],v1[1]),(v2[0],v2[1]))\n",
    "    return dist"
   ]
  },
  {
   "cell_type": "code",
   "execution_count": 13,
   "metadata": {},
   "outputs": [],
   "source": [
    "skdata = pd.read_csv('final_table_galicia.csv') ####"
   ]
  },
  {
   "cell_type": "code",
   "execution_count": 14,
   "metadata": {},
   "outputs": [],
   "source": [
    "sreal = skdata['s'].tolist()"
   ]
  },
  {
   "cell_type": "code",
   "execution_count": 15,
   "metadata": {},
   "outputs": [],
   "source": [
    "x0_cf = [] ### fixed points\n",
    "y0_cf = []### fixed points\n",
    "c=[]\n",
    "a_12 = [] #### cross-diffusion termns\n",
    "a_21 = [] #### cross-diffusion termns\n",
    "\n",
    "for i in range(20):\n",
    "    if sreal[i] > np.mean(sreal):\n",
    "        x0_cf.append(1.12)\n",
    "        y0_cf.append(0.16)\n",
    "        c.append(0.75)\n",
    "        a_12.append(1.)\n",
    "        a_21.append(0.0)\n",
    "    if sreal[i] <= np.mean(sreal):\n",
    "        x0_cf.append(0.16)\n",
    "        y0_cf.append(1.12)\n",
    "        c.append(-0.75)\n",
    "        a_12.append(0.0)\n",
    "        a_21.append(1.)"
   ]
  },
  {
   "cell_type": "code",
   "execution_count": 16,
   "metadata": {},
   "outputs": [],
   "source": [
    "### add to table\n",
    "skdata['c'] = c\n",
    "skdata['x0_cf'] = x0_cf\n",
    "skdata['y0_cf'] = y0_cf\n",
    "skdata['a21'] = a_21\n",
    "skdata['a12'] = a_12"
   ]
  },
  {
   "cell_type": "code",
   "execution_count": null,
   "metadata": {},
   "outputs": [],
   "source": [
    "x_coords = (sdata['x'].values).reshape(550,1)\n",
    "y_coords = (aggragate['Y'].values).reshape(550,1)\n",
    "population = ((aggragate['population_y'].values).reshape(550,1)).tolist()\n",
    "coords = np.concatenate([x_coords,y_coords],axis=1)"
   ]
  },
  {
   "cell_type": "code",
   "execution_count": null,
   "metadata": {},
   "outputs": [],
   "source": [
    "n = len(x_coords)\n",
    "alldist = []\n",
    "A = np.zeros((n,n))\n",
    "##### create the adcecancy matrix with edgeweights from Gravity Law\n",
    "count=0\n",
    "for i in range(0,n):\n",
    "    for j in range(i+1,n):\n",
    "        m = (population[i][0]*population[j][0])/(dist(coords[i],coords[j]))**2\n",
    "        A[i][j] = m\n",
    "        A[j][i] = m\n",
    "        h = (np.random.binomial(550, 0.011496438001083215, 1))/549 #######create a random network with binomial weights and  \n",
    "        \n",
    "        A_binom[j][i] = h\n",
    "        A_binom[i][j] = h"
   ]
  },
  {
   "cell_type": "code",
   "execution_count": null,
   "metadata": {},
   "outputs": [],
   "source": [
    "np.random.shuffle(list_weight)  #### shuffle the weights to create a random network\n",
    "A_random = np.zeros((nn,nn))\n",
    "for i in range(0,nn):\n",
    "    for j in range(i+1,nn):\n",
    "        y = list_weight.pop()\n",
    "        A_random[i][j] = y\n",
    "        A_random[j][i] = y"
   ]
  },
  {
   "cell_type": "code",
   "execution_count": null,
   "metadata": {},
   "outputs": [],
   "source": [
    "###Define the graph laplacian\n",
    "\n",
    "Dt = np.sum(A,axis=1).tolist()\n",
    "DD = np.diag(Dt)\n",
    "L = A - DD"
   ]
  },
  {
   "cell_type": "code",
   "execution_count": null,
   "metadata": {},
   "outputs": [],
   "source": [
    "###Define the graph laplacian for random network\n",
    "Dt_random = np.sum(A_random,axis=1).tolist()\n",
    "DD_random = np.diag(Dt_random)\n",
    "L_random = A_random - DD_random"
   ]
  },
  {
   "cell_type": "code",
   "execution_count": null,
   "metadata": {},
   "outputs": [],
   "source": [
    "###Define the graph laplacian for random network\n",
    "Dt_binom = np.sum(A_binom,axis=1).tolist()\n",
    "DD_binom = np.diag(Dt_binom)\n",
    "L_binom = A_binom - DD_binom"
   ]
  },
  {
   "cell_type": "code",
   "execution_count": null,
   "metadata": {},
   "outputs": [],
   "source": [
    "cc = (skreal['c'].values).reshape(550,1)  ### language status\n",
    "a_12 = (skreal['a12'].values).reshape(550,1)\n",
    "a_21 = (skreal['a21'].values).reshape(550,1)"
   ]
  },
  {
   "cell_type": "code",
   "execution_count": null,
   "metadata": {},
   "outputs": [],
   "source": [
    "### solve the differential equation numerically\n",
    "\n",
    "def fun(e,f):\n",
    "    l1 = np.matmul(L,e)\n",
    "    l5 = np.matmul(L,f)\n",
    "    l3 = np.matmul(L,(e*f))\n",
    "    return (e + deltat*(e*(1-e) + cc*e*f + l1*d1 + l3*a_12), f + deltat*(f*(1-f) - cc*e*f + l5*d2 + l3*a_21))"
   ]
  },
  {
   "cell_type": "code",
   "execution_count": null,
   "metadata": {},
   "outputs": [],
   "source": [
    "#### diffusion terms\n",
    "\n",
    "d1 = 0.025 \n",
    "d2 = 0.025"
   ]
  },
  {
   "cell_type": "code",
   "execution_count": null,
   "metadata": {},
   "outputs": [],
   "source": [
    "t= 80000#Pasos temporales totales\n",
    "tiempo=np.linspace(0,t,t+1) "
   ]
  },
  {
   "cell_type": "code",
   "execution_count": null,
   "metadata": {},
   "outputs": [],
   "source": []
  },
  {
   "cell_type": "code",
   "execution_count": null,
   "metadata": {},
   "outputs": [],
   "source": [
    "#### run diffusion over the geographical network of Galicia\n",
    "### run multiple realiaztions\n",
    "evolution2x = []\n",
    "evolution2y = []\n",
    "for i in range(50):\n",
    "    up = []\n",
    "    vp = []\n",
    "    x_0 = (aggragate['x0_cf'].values).reshape(550,1)\n",
    "    y_0  = (aggragate['y0_cf'].values).reshape(550,1)\n",
    "    for n in range(len(population)):\n",
    "        up.append(x_0[n] + 0.1*x_0[n]*(2.*np.random.rand()-1))\n",
    "        vp.append(y_0[n] + 0.1*y_0[n]*(2.*np.random.rand()-1))\n",
    "    upp = np.array([up]).T\n",
    "    vpp = np.array([vp]).T\n",
    "    ui = upp\n",
    "    vi = vpp\n",
    "    uavg= []\n",
    "    for j in tiempo:\n",
    "        u =(fun(ui,vi))[0]\n",
    "        v=(fun(ui,vi))[1]\n",
    "        ui = u\n",
    "        vi = v\n",
    "        uavg.append(np.average(ui))\n",
    "    evolution2x.append(ui)\n",
    "    evolution2y.append(vi)\n",
    "    print(i)"
   ]
  },
  {
   "cell_type": "code",
   "execution_count": null,
   "metadata": {},
   "outputs": [],
   "source": [
    "### take the average of multiple runs\n",
    "skreal['xi_sim'] = np.mean(evolution2x,axis=0)[0]\n",
    "skreal['yi_sim'] = np.mean(evolution2y,axis=0)[0]"
   ]
  },
  {
   "cell_type": "code",
   "execution_count": 17,
   "metadata": {},
   "outputs": [],
   "source": [
    "new=pd.DataFrame()"
   ]
  },
  {
   "cell_type": "code",
   "execution_count": null,
   "metadata": {},
   "outputs": [],
   "source": [
    "new['xi_n'] = skreal.groupby('Region').apply(lambda x: np.average(x['xi_n']/(x['xi_n'] + x['yi_n']), weights=x['population_y'])).tolist()\n",
    "new['yi_n'] = skreal.groupby('Region').apply(lambda x: np.average(x['yi_n']/(x['xi_n'] + x['yi_n']), weights=x['population_y'])).tolist()"
   ]
  },
  {
   "cell_type": "code",
   "execution_count": null,
   "metadata": {},
   "outputs": [],
   "source": [
    "###compare with actual data\n",
    "compare = pd.merge(new,skdata,left_on='Comarca',right_on='comarca')"
   ]
  },
  {
   "cell_type": "code",
   "execution_count": null,
   "metadata": {},
   "outputs": [],
   "source": [
    "compare['g_n'] = np.array(compare['galicia'])/np.array(compare['galicia'] + compare['spanish'])"
   ]
  },
  {
   "cell_type": "code",
   "execution_count": null,
   "metadata": {},
   "outputs": [],
   "source": [
    "compare['s_n'] = np.array(compare['spanish'])/np.array(compare['galicia'] + compare['spanish'])"
   ]
  },
  {
   "cell_type": "code",
   "execution_count": 20,
   "metadata": {},
   "outputs": [],
   "source": [
    "font0 = FontProperties()\n",
    "font1 = font0.copy()\n",
    "font1.set_weight('bold')\n",
    "font1.set_size('large')\n",
    "font1.set_family('sans-serif')"
   ]
  },
  {
   "cell_type": "code",
   "execution_count": null,
   "metadata": {},
   "outputs": [],
   "source": [
    "\n",
    "### plot simulation concentration vs real concentration of speakers\n",
    "fig, axes = plt.subplots(2,2, figsize=(2*6.4, 2*4.8))\n",
    "\n",
    "axes[0][0].plot(compare['xi_n'].tolist(),compare['g_n'].tolist(),'o',color='black')\n",
    "axes[0][0].set_xlim(-0.05,1.05)\n",
    "axes[0][0].set_ylim(-0.05,1.05)\n",
    "axes[0][0].tick_params(axis='both', which='major', labelsize=15)\n",
    "axes[0][0].set_xlabel('Simulation Concentration',fontsize = 15)\n",
    "axes[0][0].set_ylabel('Real Concentration',fontsize=15)\n",
    "axes[0][0].text(0.7,0.2,r'$\\rho^G_p = 0.77$',fontsize=20)\n",
    "axes[0][0].text(0.05, 0.95, '(a)',\n",
    "        verticalalignment='center', horizontalalignment='center',\n",
    "        \n",
    "        color='black',fontproperties=font1,fontsize=20,transform=axes[0][0].transAxes)\n",
    "\n",
    "axes[0][1].plot(compare['yi_n'].tolist(),compare['s_n'].tolist(),'o',color='black')\n",
    "axes[0][1].set_xlim(-0.05,1.05)\n",
    "axes[0][1].set_ylim(-0.05,1.05)\n",
    "axes[0][1].tick_params(axis='both', which='major', labelsize=15)\n",
    "axes[0][1].set_xlabel('Simulation Concentration',fontsize = 15)\n",
    "axes[0][1].set_ylabel('Real Concentration',fontsize=15)\n",
    "axes[0][1].text(0.05, 0.95, '(b)',\n",
    "        verticalalignment='center', horizontalalignment='center',\n",
    "        \n",
    "        color='black',fontproperties=font1,fontsize=20,transform=axes[0][1].transAxes)\n",
    "axes[0][1].text(0.7,0.2,r'$\\rho^S_p = 0.77$',fontsize=20)\n",
    "\n",
    "axes[1][0].plot(rankdata(-np.array(compare['xi_n'].tolist())),rankdata(-np.array(compare['g_n'].tolist())),'o',color='black')\n",
    "axes[1][0].set_xscale('log')\n",
    "axes[1][0].set_yscale('log')\n",
    "axes[1][0].set_xlim(100,0.1)\n",
    "axes[1][0].set_ylim(100,0.1)\n",
    "axes[1][0].set_xlabel('Simulation Rank',fontsize = 15)\n",
    "axes[1][0].set_ylabel('Real Rank',fontsize=15)\n",
    "axes[1][0].tick_params(axis='both', which='major', labelsize=15)\n",
    "axes[1][0].text(0.05, 0.95, '(c)',\n",
    "        verticalalignment='center', horizontalalignment='center',\n",
    "        \n",
    "        color='black',fontproperties=font1,fontsize=20,transform=axes[1][0].transAxes)\n",
    "axes[1][0].text(5,0.2,r'$\\rho^G_s = 0.85$',fontsize=20)\n",
    "\n",
    "axes[1][1].plot(rankdata(-np.array(compare['yi_n'].tolist())),rankdata(-np.array(compare['s_n'].tolist())),'o',color='black')\n",
    "#axes[1][0].set_xlim(-0.05,1.05)\n",
    "#axes[1][0].set_ylim(-0.05,1.05)\n",
    "axes[1][1].set_xscale('log')\n",
    "axes[1][1].set_yscale('log')\n",
    "axes[1][1].set_xlim(100,0.1)\n",
    "axes[1][1].set_ylim(100,0.1)\n",
    "axes[1][1].set_xlabel('Simulation Rank',fontsize = 15)\n",
    "axes[1][1].set_ylabel('Real Rank',fontsize=15)\n",
    "axes[1][1].tick_params(axis='both', which='major', labelsize=15)\n",
    "axes[1][1].text(0.05, 0.95, '(d)',\n",
    "        verticalalignment='center', horizontalalignment='center',\n",
    "        \n",
    "        color='black',fontproperties=font1,fontsize=20,transform=axes[1][1].transAxes)\n",
    "axes[1][1].text(10,0.2,r'$\\rho^S_s = 0.85$',fontsize=20)\n",
    "\n",
    "plt.tight_layout()\n",
    "\n",
    "plt.savefig('fig_s4.pdf',bbox_inches='tight')"
   ]
  }
 ],
 "metadata": {
  "kernelspec": {
   "display_name": "sayatenv",
   "language": "python",
   "name": "myenv"
  },
  "language_info": {
   "codemirror_mode": {
    "name": "ipython",
    "version": 3
   },
   "file_extension": ".py",
   "mimetype": "text/x-python",
   "name": "python",
   "nbconvert_exporter": "python",
   "pygments_lexer": "ipython3",
   "version": "3.7.4"
  }
 },
 "nbformat": 4,
 "nbformat_minor": 4
}
