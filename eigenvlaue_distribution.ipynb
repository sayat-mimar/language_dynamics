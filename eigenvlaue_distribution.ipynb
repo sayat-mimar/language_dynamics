{
 "cells": [
  {
   "cell_type": "code",
   "execution_count": 1,
   "metadata": {},
   "outputs": [],
   "source": [
    "import igraph as ig\n",
    "import numpy as np\n",
    "from sympy.solvers import nsolve\n",
    "from sympy import *"
   ]
  },
  {
   "cell_type": "code",
   "execution_count": 2,
   "metadata": {},
   "outputs": [],
   "source": [
    "from scipy.stats import norm"
   ]
  },
  {
   "cell_type": "code",
   "execution_count": 3,
   "metadata": {},
   "outputs": [],
   "source": [
    "from __future__ import division"
   ]
  },
  {
   "cell_type": "code",
   "execution_count": 4,
   "metadata": {},
   "outputs": [],
   "source": [
    "import powerlaw as pl\n",
    "%matplotlib inline\n",
    "import matplotlib.pyplot as plt"
   ]
  },
  {
   "cell_type": "code",
   "execution_count": 5,
   "metadata": {},
   "outputs": [],
   "source": [
    "from sympy.solvers import nsolve\n",
    "from sympy import *"
   ]
  },
  {
   "cell_type": "code",
   "execution_count": 6,
   "metadata": {},
   "outputs": [],
   "source": [
    "from scipy import special\n",
    "from scipy import stats\n",
    "import pandas as pd"
   ]
  },
  {
   "cell_type": "code",
   "execution_count": 7,
   "metadata": {},
   "outputs": [],
   "source": [
    "import scipy as sp\n",
    "from scipy import stats"
   ]
  },
  {
   "cell_type": "code",
   "execution_count": 8,
   "metadata": {},
   "outputs": [],
   "source": [
    "from scipy.spatial import distance\n",
    "def dist(v1,v2):\n",
    "    dist = distance.euclidean((v1[0],v1[1]),(v2[0],v2[1]))\n",
    "    return dist"
   ]
  },
  {
   "cell_type": "code",
   "execution_count": null,
   "metadata": {},
   "outputs": [],
   "source": [
    "aggragate=pd.read_csv('final_table_galicia.csv')"
   ]
  },
  {
   "cell_type": "code",
   "execution_count": 10,
   "metadata": {},
   "outputs": [],
   "source": [
    "x_coords = (aggragate['X'].values).reshape(550,1)"
   ]
  },
  {
   "cell_type": "code",
   "execution_count": null,
   "metadata": {},
   "outputs": [],
   "source": [
    "y_coords = (aggragate['Y'].values).reshape(550,1)"
   ]
  },
  {
   "cell_type": "code",
   "execution_count": 12,
   "metadata": {},
   "outputs": [],
   "source": [
    "population = ((aggragate['population_y'].values).reshape(550,1)).tolist()"
   ]
  },
  {
   "cell_type": "code",
   "execution_count": null,
   "metadata": {},
   "outputs": [],
   "source": [
    "coords = np.concatenate([x_coords,y_coords],axis=1)"
   ]
  },
  {
   "cell_type": "code",
   "execution_count": null,
   "metadata": {},
   "outputs": [],
   "source": [
    "n = len(x_coords)\n",
    "alldist = []\n",
    "A = np.zeros((n,n))\n",
    "A_binom = np.zeros((n,n))\n",
    "count=0\n",
    "for i in range(0,n):\n",
    "    for j in range(i+1,n):\n",
    "        m = (population[i][0]*population[j][0])/(dist(coords[i],coords[j]))**2\n",
    "        A[i][j] = m\n",
    "        A[j][i] = m\n",
    "        "
   ]
  },
  {
   "cell_type": "code",
   "execution_count": null,
   "metadata": {},
   "outputs": [],
   "source": [
    "Dt = np.sum(A,axis=1).tolist()\n",
    "DD = np.diag(Dt)\n",
    "L = A - DD"
   ]
  },
  {
   "cell_type": "code",
   "execution_count": null,
   "metadata": {},
   "outputs": [],
   "source": []
  },
  {
   "cell_type": "code",
   "execution_count": null,
   "metadata": {},
   "outputs": [],
   "source": [
    "q = np.linalg.eigvals(L) ### eigenvalue ditribution\n",
    "qsorted = sorted(q,reverse=True)\n",
    "q = qsorted\n",
    "q = np.real(q)\n",
    "qq = q\n",
    "qq[0] = 0."
   ]
  },
  {
   "cell_type": "code",
   "execution_count": 13,
   "metadata": {},
   "outputs": [],
   "source": [
    "#coefficients in lotka volterra model\n",
    "\n",
    "c = 0.5\n",
    "ax = 1\n",
    "ay = 1\n",
    "sx = 1\n",
    "sy = 1"
   ]
  },
  {
   "cell_type": "code",
   "execution_count": null,
   "metadata": {},
   "outputs": [],
   "source": [
    "d1 = 0.01\n",
    "d2 = 0.01"
   ]
  },
  {
   "cell_type": "code",
   "execution_count": 14,
   "metadata": {},
   "outputs": [],
   "source": [
    "x0 = ay*sx*(c*sy +ax)/(ax*ay + sx*sy*c**2 )"
   ]
  },
  {
   "cell_type": "code",
   "execution_count": 15,
   "metadata": {},
   "outputs": [],
   "source": [
    "y0 = ax*sy*(-c*sx +ay)/(ax*ay + sx*sy*c**2 )"
   ]
  },
  {
   "cell_type": "code",
   "execution_count": 16,
   "metadata": {},
   "outputs": [],
   "source": [
    "x, y = symbols('x y ')"
   ]
  },
  {
   "cell_type": "code",
   "execution_count": 17,
   "metadata": {},
   "outputs": [],
   "source": [
    "f_x = diff(x*(1-x) + c*x*y ,x)\n",
    "f_y = diff( x*(1-x) + c*x*y,y)\n",
    "g_x = diff(y*(1-y) - c*x*y,x)\n",
    "g_y = diff(y*(1-y) - c*x*y,y)"
   ]
  },
  {
   "cell_type": "code",
   "execution_count": 18,
   "metadata": {},
   "outputs": [],
   "source": [
    "fx = np.array([(f_x.subs(x,x0)).subs(y,y0)],dtype='float')[0]\n",
    "fy = np.array([(f_y.subs(x,x0)).subs(y,y0)],dtype='float')[0]\n",
    "gx = np.array([(g_x.subs(x,x0)).subs(y,y0)],dtype='float')[0]\n",
    "gy = np.array([(g_y.subs(x,x0)).subs(y,y0)],dtype='float')[0]"
   ]
  },
  {
   "cell_type": "code",
   "execution_count": 19,
   "metadata": {},
   "outputs": [],
   "source": [
    "J = [[fx,fy],[gx,gy]]### Jacobian matrix"
   ]
  },
  {
   "cell_type": "code",
   "execution_count": 20,
   "metadata": {},
   "outputs": [],
   "source": [
    "d1 = 0.01\n",
    "d2 = 0.01\n",
    "a12 = 2.1\n",
    "a21 = 0.0"
   ]
  },
  {
   "cell_type": "code",
   "execution_count": 21,
   "metadata": {},
   "outputs": [],
   "source": [
    "D = [[d1 + a12*y0,a12*x0],[a21*y0, d2 + a21*x0]] \n",
    "J = [[fx,fy],[gx,gy]]\n",
    "trj = np.trace(J) \n",
    "trd = np.trace(D) \n",
    "detj = np.linalg.det(J)\n",
    "detd = np.linalg.det(D)"
   ]
  },
  {
   "cell_type": "code",
   "execution_count": null,
   "metadata": {},
   "outputs": [],
   "source": [
    "bb=(fx*D[1][1] + gy*D[0][0] - D[1][0]*fy - gx*D[0][1])\n",
    "aa=detd\n",
    "cc = detj\n",
    "print((-bb/(2*aa)))\n",
    "lambda1 = ((-bb - np.sqrt(bb**2 - 4*aa*cc))/(2*aa))\n",
    "lambda2 = ((-bb + np.sqrt(bb**2 - 4*aa*cc))/(2*aa))"
   ]
  },
  {
   "cell_type": "code",
   "execution_count": 22,
   "metadata": {},
   "outputs": [
    {
     "data": {
      "text/plain": [
       "-11.999999999999975"
      ]
     },
     "execution_count": 22,
     "metadata": {},
     "output_type": "execute_result"
    }
   ],
   "source": [
    "lambda1"
   ]
  },
  {
   "cell_type": "code",
   "execution_count": 23,
   "metadata": {},
   "outputs": [
    {
     "data": {
      "text/plain": [
       "-5.882352941176481"
      ]
     },
     "execution_count": 23,
     "metadata": {},
     "output_type": "execute_result"
    }
   ],
   "source": [
    "lambda2"
   ]
  },
  {
   "cell_type": "code",
   "execution_count": null,
   "metadata": {},
   "outputs": [],
   "source": [
    "bth = []\n",
    "cth=[]\n",
    "xq = np.linspace(-240,0,700)\n",
    "for i in range(len(xq)):\n",
    "    bth.append(-(trj + trd*xq[i]))\n",
    "    cth.append(detj + (fx*D[1][1] + gy*D[0][0] - D[1][0]*fy - gx*D[0][1])*xq[i] + detd*xq[i]**2)"
   ]
  },
  {
   "cell_type": "code",
   "execution_count": null,
   "metadata": {},
   "outputs": [],
   "source": [
    "solth = []\n",
    "for j in range(len(xq)):\n",
    "    if (bth[j]*bth[j] - 4*cth[j]) > 0:\n",
    "        solth.append((-bth[j] + np.sqrt(bth[j]*bth[j] - 4*cth[j]))/2)\n",
    "    if (bth[j]*bth[j] - 4*cth[j]) < 0:\n",
    "        solth.append(-bth[j]/2)"
   ]
  },
  {
   "cell_type": "code",
   "execution_count": null,
   "metadata": {},
   "outputs": [],
   "source": [
    "b1 = []\n",
    "c1=[]\n",
    "for i in range(len(qq)):\n",
    "    b1.append(-(trj + trd*qq[i]))\n",
    "    c1.append(detj + (fx*D[1][1] + gy*D[0][0] - D[1][0]*fy - gx*D[0][1])*q[i] + detd*q[i]**2)"
   ]
  },
  {
   "cell_type": "code",
   "execution_count": null,
   "metadata": {},
   "outputs": [],
   "source": [
    "sol = []\n",
    "for j in range(len(q)):\n",
    "    if (b1[j]*b1[j] - 4*c1[j]) > 0:\n",
    "        sol.append((-b1[j] + np.sqrt(b1[j]*b1[j] - 4*c1[j]))/2)\n",
    "    if (b1[j]*b1[j] - 4*c1[j]) < 0:\n",
    "        sol.append(-b1[j]/2)"
   ]
  },
  {
   "cell_type": "code",
   "execution_count": null,
   "metadata": {},
   "outputs": [],
   "source": [
    "f = plt.figure(figsize=[2*6.4, 2*4.8])\n",
    "font0 = FontProperties()\n",
    "font1 = font0.copy()\n",
    "font1.set_weight('bold')\n",
    "font1.set_size('large')\n",
    "font1.set_family('sans-serif')\n",
    "\n",
    "\n",
    "ax1  = plt.subplot(2,2,1)\n",
    "plt.text(0.05, 0.93, '(a)',\n",
    "        verticalalignment='center', horizontalalignment='center',color='black',fontproperties=font1,fontsize=20,transform=ax1.transAxes)\n",
    "\n",
    "plt.plot(xq,solth,'--',color='brown')\n",
    "#plt.plot(qq,sol,'.',color = '#6495ED',label = 'Complete Graph')\n",
    "plt.plot(qq,sol,'.',color = 'black')\n",
    "plt.plot(lambda1,0,'o',color = 'red')\n",
    "plt.plot(lambda2,0,'o',color = 'red')\n",
    "plt.annotate(r'$\\Lambda_{\\alpha_1}^G$', xy=(lambda1, 0), xytext=(-17, -0.25),\n",
    "            arrowprops=dict(arrowstyle=\"->\"),fontsize=15)\n",
    "plt.annotate(r'$\\Lambda_{\\alpha_2}^G$', xy=(lambda2, 0), xytext=(-6, -0.25),\n",
    "            arrowprops=dict(arrowstyle=\"->\"),fontsize=15)\n",
    "plt.xlabel(r'$\\Lambda_{\\alpha}$',fontsize=15)\n",
    "plt.ylabel(r'$Re (\\lambda_{\\alpha})$',fontsize=15)\n",
    "plt.tick_params(axis='both', which='major', labelsize=15)\n",
    "plt.xlim(-40,5)\n",
    "plt.ylim(-0.8,0.2)\n",
    "\n",
    "ax2  = plt.subplot(2,2,2)\n",
    "plt.text(0.05, 0.93, '(b)',\n",
    "        verticalalignment='center', horizontalalignment='center',color='black',fontproperties=font1,fontsize=20,transform=ax2.transAxes)\n",
    "\n",
    "plt.plot(xq_c,solth_c,'--',color='brown')\n",
    "#plt.plot(qq,sol,'.',color = '#6495ED',label = 'Complete Graph')\n",
    "plt.plot(qq_c,sol_c,'.',color = 'black')\n",
    "plt.plot(lambda1_c,0,'o',color = 'red')\n",
    "plt.plot(lambda2_c,0,'o',color = 'red')\n",
    "plt.annotate(r'$\\Lambda_{\\alpha_1}^C$', xy=(lambda1_c, 0), xytext=(-2, -0.25),\n",
    "            arrowprops=dict(arrowstyle=\"->\"),fontsize=15)\n",
    "plt.annotate(r'$\\Lambda_{\\alpha_2}^C$', xy=(lambda2_c, 0), xytext=(-1, -0.25),\n",
    "            arrowprops=dict(arrowstyle=\"->\"),fontsize=15)\n",
    "plt.xlabel(r'$\\Lambda_{\\alpha}$',fontsize=15)\n",
    "plt.ylabel(r'$Re (\\lambda_{\\alpha})$',fontsize=15)\n",
    "plt.tick_params(axis='both', which='major', labelsize=15)\n",
    "plt.xlim(-6,1)\n",
    "plt.ylim(-0.8,0.2)\n",
    "\n",
    "plt.tight_layout()\n",
    "\n",
    "#plt.savefig('esi_eig_dist.pdf',bbox_inches='tight')"
   ]
  },
  {
   "cell_type": "code",
   "execution_count": null,
   "metadata": {},
   "outputs": [],
   "source": []
  },
  {
   "cell_type": "code",
   "execution_count": null,
   "metadata": {},
   "outputs": [],
   "source": [
    "unew2y = []\n",
    "stdnew2y = []\n",
    "for i in range(len(degree)):\n",
    "    unew2y.append(mean2y[degree[i]][0])\n",
    "    stdnew2y.append(std2y[degree[i]][0])"
   ]
  },
  {
   "cell_type": "code",
   "execution_count": null,
   "metadata": {},
   "outputs": [],
   "source": []
  },
  {
   "cell_type": "code",
   "execution_count": null,
   "metadata": {},
   "outputs": [],
   "source": [
    "plt.errorbar(np.linspace(0,549,550),np.array(unew2y),yerr=np.array(stdnew2y), fmt='.',elinewidth=0.4,ecolor='grey',color='black')\n",
    "plt.xlabel(r'node index $i$',fontsize = 12)\n",
    "plt.ylabel(r'$\\langle v_i \\rangle$',fontsize = 12)\n",
    "#plt.ylim(0,1.4)"
   ]
  }
 ],
 "metadata": {
  "kernelspec": {
   "display_name": "sayatenv",
   "language": "python",
   "name": "myenv"
  },
  "language_info": {
   "codemirror_mode": {
    "name": "ipython",
    "version": 3
   },
   "file_extension": ".py",
   "mimetype": "text/x-python",
   "name": "python",
   "nbconvert_exporter": "python",
   "pygments_lexer": "ipython3",
   "version": "3.7.4"
  }
 },
 "nbformat": 4,
 "nbformat_minor": 4
}
