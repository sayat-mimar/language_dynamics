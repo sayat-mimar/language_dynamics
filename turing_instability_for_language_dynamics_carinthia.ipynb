{
 "cells": [
  {
   "cell_type": "code",
   "execution_count": 1,
   "metadata": {},
   "outputs": [],
   "source": [
    "import igraph as ig\n",
    "import numpy as np\n",
    "from sympy.solvers import nsolve\n",
    "from sympy import *"
   ]
  },
  {
   "cell_type": "code",
   "execution_count": 2,
   "metadata": {},
   "outputs": [],
   "source": [
    "import scipy as sp\n",
    "from scipy import stats"
   ]
  },
  {
   "cell_type": "code",
   "execution_count": 3,
   "metadata": {},
   "outputs": [],
   "source": [
    "from scipy.stats import rankdata"
   ]
  },
  {
   "cell_type": "code",
   "execution_count": 4,
   "metadata": {},
   "outputs": [],
   "source": [
    "from math import radians, cos, sin, asin, sqrt\n",
    "\n",
    "def haversine(lon1, lat1, lon2, lat2):\n",
    "    \"\"\"\n",
    "    Calculate the great circle distance between two points \n",
    "    on the earth (specified in decimal degrees)\n",
    "    \"\"\"\n",
    "    # convert decimal degrees to radians \n",
    "    lon1, lat1, lon2, lat2 = map(radians, [lon1, lat1, lon2, lat2])\n",
    "\n",
    "    # haversine formula \n",
    "    dlon = lon2 - lon1 \n",
    "    dlat = lat2 - lat1 \n",
    "    a = sin(dlat/2)**2 + cos(lat1) * cos(lat2) * sin(dlon/2)**2\n",
    "    c = 2 * asin(sqrt(a)) \n",
    "    r = 6371 # Radius of earth in kilometers. Use 3956 for miles\n",
    "    return c * r"
   ]
  },
  {
   "cell_type": "code",
   "execution_count": 5,
   "metadata": {},
   "outputs": [],
   "source": [
    "from shapely.geometry import Point,MultiPoint,LineString,Polygon"
   ]
  },
  {
   "cell_type": "code",
   "execution_count": 6,
   "metadata": {},
   "outputs": [],
   "source": [
    "import powerlaw as pl\n",
    "%matplotlib inline\n",
    "import matplotlib.pyplot as plt"
   ]
  },
  {
   "cell_type": "code",
   "execution_count": 7,
   "metadata": {},
   "outputs": [],
   "source": [
    "from scipy.spatial import distance\n",
    "def dist(v1,v2):\n",
    "    dist = distance.euclidean((v1[0],v1[1]),(v2[0],v2[1]))\n",
    "    return dist"
   ]
  },
  {
   "cell_type": "code",
   "execution_count": 8,
   "metadata": {},
   "outputs": [],
   "source": [
    "from scipy import special\n",
    "from scipy import stats\n",
    "import pandas as pd"
   ]
  },
  {
   "cell_type": "code",
   "execution_count": 11,
   "metadata": {},
   "outputs": [],
   "source": [
    "aggragate = pd.read_csv('final_table_ca.csv')"
   ]
  },
  {
   "cell_type": "code",
   "execution_count": 13,
   "metadata": {},
   "outputs": [],
   "source": [
    "x_coord = np.array((aggragate['Lon'].tolist(),aggragate['Lat'].tolist())).T\n",
    "y_coord = np.array((aggragate['Lon'].tolist(),aggragate['Lat'].tolist())).T"
   ]
  },
  {
   "cell_type": "code",
   "execution_count": 14,
   "metadata": {},
   "outputs": [],
   "source": [
    "population = ((aggragate['pop'].values).reshape(111,1)).tolist()"
   ]
  },
  {
   "cell_type": "code",
   "execution_count": 15,
   "metadata": {},
   "outputs": [],
   "source": [
    "coords = np.concatenate([x_coord,y_coord],axis=1)"
   ]
  },
  {
   "cell_type": "code",
   "execution_count": 16,
   "metadata": {},
   "outputs": [],
   "source": [
    "n = 111\n",
    "alldist = []\n",
    "A = np.zeros((n,n))\n",
    "A_binom = np.zeros((n,n))\n",
    "count=0\n",
    "for i in range(0,n):\n",
    "    for j in range(i+1,n):\n",
    "        m = (5*10**-7)*(population[i][0]*population[j][0])/haversine(x_coord[i][0], x_coord[i][1], y_coord[j][0], y_coord[j][1])**2#(dist(coords[i],coords[j]))**2\n",
    "        A[i][j] = m\n",
    "        A[j][i] = m\n",
    "        h = (np.random.binomial(111, 0.01503695919007753, 1))/110\n",
    "        A_binom[i][j] = h\n",
    "        A_binom[j][i] = h"
   ]
  },
  {
   "cell_type": "code",
   "execution_count": 17,
   "metadata": {},
   "outputs": [],
   "source": [
    "Dt = np.sum(A,axis=1).tolist()\n",
    "DD = np.diag(Dt)\n",
    "L = A - DD\n",
    "\n",
    "Dt_binom = np.sum(A_binom,axis=1).tolist()\n",
    "DD_binom = np.diag(Dt_binom)\n",
    "L_binom = A_binom - DD_binom"
   ]
  },
  {
   "cell_type": "code",
   "execution_count": 18,
   "metadata": {},
   "outputs": [],
   "source": [
    "def bins_counts(array,a,b,c):\n",
    "    count, bins = np.histogram(array, bins=np.logspace(a,b,c),density=1)\n",
    "    t =[]\n",
    "    for i in range(len(count)):\n",
    "        t.append((bins[i + 1] + bins[i])/float(2))\n",
    "    return t,count"
   ]
  },
  {
   "cell_type": "code",
   "execution_count": 20,
   "metadata": {},
   "outputs": [],
   "source": [
    "d_frac = aggragate['d_frac'].tolist()"
   ]
  },
  {
   "cell_type": "code",
   "execution_count": 21,
   "metadata": {},
   "outputs": [],
   "source": [
    "#np.random.shuffle(d_frac)\n",
    "x0_cf = []\n",
    "y0_cf = []\n",
    "c=[]#### status parameter\n",
    "a_12 = []\n",
    "a_21 = []\n",
    "\n",
    "for i in range(111):\n",
    "    if d_frac[i] > 0.5:\n",
    "        x0_cf.append(1.2)\n",
    "        y0_cf.append(0.4)\n",
    "        c.append(0.5)\n",
    "        a_12.append(21)\n",
    "        a_21.append(0.0)\n",
    "    if d_frac[i] <= 0.5:\n",
    "        x0_cf.append(0.4)\n",
    "        y0_cf.append(1.2)\n",
    "        c.append(-0.5)\n",
    "        a_12.append(0.0)\n",
    "        a_21.append(21)\n",
    "aggragate['c'] = c\n",
    "aggragate['x0'] = x0_cf\n",
    "aggragate['y0'] = y0_cf\n",
    "aggragate['a12'] = a_12\n",
    "aggragate['a21'] = a_21"
   ]
  },
  {
   "cell_type": "code",
   "execution_count": 22,
   "metadata": {},
   "outputs": [],
   "source": [
    "cc = (aggragate['c'].values).reshape(111,1)\n",
    "a_12 = (aggragate['a12'].values).reshape(111,1)\n",
    "a_21 = (aggragate['a21'].values).reshape(111,1)"
   ]
  },
  {
   "cell_type": "code",
   "execution_count": 23,
   "metadata": {},
   "outputs": [],
   "source": [
    "deltat=10.**(-3.)\n",
    "def fun(e,f):\n",
    "    l1 = np.matmul(L,e)\n",
    "    l5 = np.matmul(L,f)\n",
    "    l3 = np.matmul(L,(e*f))\n",
    "    return (e + deltat*(e*(1-e) + cc*e*f +l1*d1 + l3*a_12), f + deltat*(f*(1-f) - cc*e*f + l5*d2 + l3*a_21))"
   ]
  },
  {
   "cell_type": "code",
   "execution_count": 24,
   "metadata": {},
   "outputs": [],
   "source": [
    "d1 = 0.01\n",
    "d2 = 0.01"
   ]
  },
  {
   "cell_type": "code",
   "execution_count": 25,
   "metadata": {},
   "outputs": [],
   "source": [
    "t= 140000#Pasos temporales totales\n",
    "tiempo=np.linspace(0,t,t+1) "
   ]
  },
  {
   "cell_type": "code",
   "execution_count": null,
   "metadata": {},
   "outputs": [],
   "source": [
    "evolution_2x = []\n",
    "evolution_2y = []\n",
    "for i in range(5):\n",
    "    up = []\n",
    "    vp = []\n",
    "    uavg=[]\n",
    "    x_0   = 1.2#aggragate['x0'].tolist()\n",
    "    y_0  = 0.4#aggragate['y0'].tolist()\n",
    "    for n in range((111)):\n",
    "        up.append(x_0 + 0.1*x_0*(2.*np.random.rand()-1))\n",
    "        vp.append(y_0 + 0.1*y_0*(2.*np.random.rand()-1))\n",
    "    upp = np.array([up]).T\n",
    "    vpp = np.array([vp]).T\n",
    "    ui = upp\n",
    "    vi = vpp\n",
    "    #uavg= []\n",
    "    for j in tiempo:\n",
    "        u =(fun(ui,vi))[0]\n",
    "        v=(fun(ui,vi))[1]\n",
    "        ui = u\n",
    "        vi = v\n",
    "        uavg.append(np.average(ui))\n",
    "    evolution_2x.append(ui)\n",
    "    evolution_2y.append(vi)\n",
    "    print(i)"
   ]
  },
  {
   "cell_type": "code",
   "execution_count": null,
   "metadata": {},
   "outputs": [],
   "source": [
    "aggragate['xi_sim'] = np.mean(evolution_2x,axis=0)\n",
    "aggragate['yi_dim'] = np.mean(evolution_2y,axis=0)"
   ]
  },
  {
   "cell_type": "code",
   "execution_count": null,
   "metadata": {},
   "outputs": [],
   "source": []
  },
  {
   "cell_type": "code",
   "execution_count": null,
   "metadata": {},
   "outputs": [],
   "source": [
    "new=pd.DataFrame()\n",
    "new['xi_sim'] = (aggragate.groupby('districts').apply(lambda x: np.average(x['xi_sim']/(x['xi_sim']+x['yi_sim']), weights=x['pop']))).tolist()\n",
    "\n",
    "\n",
    "new['yi_sim'] = (aggragate.groupby('districts').apply(lambda x: np.average(x['yi_sim']/(x['xi_sim']+x['yi_sim']), weights=x['pop']))).tolist()\n",
    "\n",
    "\n"
   ]
  },
  {
   "cell_type": "code",
   "execution_count": null,
   "metadata": {},
   "outputs": [],
   "source": [
    "sp.stats.pearsonr(new['yi_fix_emp'].tolist(),new['s_frac'].tolist())"
   ]
  },
  {
   "cell_type": "code",
   "execution_count": null,
   "metadata": {},
   "outputs": [],
   "source": [
    "fig, axes = plt.subplots(1,2, figsize=(2*6.4, 4.8))\n",
    "font0 = FontProperties()\n",
    "font1 = font0.copy()\n",
    "font1.set_weight('bold')\n",
    "font1.set_size('large')\n",
    "font1.set_family('sans-serif')\n",
    "\n",
    "axes[0].text(0.5, 1.45, \n",
    "                'German',\n",
    "        verticalalignment='center', horizontalalignment='center',\n",
    "        \n",
    "        color='black',fontproperties=font1,fontsize=20,transform=axes[0].transAxes, **hfont)\n",
    "ka_agg_1.plot(ax=axes[0], column='xi_e_s_1', cmap='Oranges', edgecolor='black',vmin=0,vmax=1)\n",
    "\n",
    "axes[0].set_yticklabels([])\n",
    "axes[0].set_xticklabels([])\n",
    "axes[0].set_yticks([])\n",
    "axes[0].set_xticks([])\n",
    "\n",
    "axes[0].spines['right'].set_visible(False)\n",
    "axes[0].spines['top'].set_visible(False)\n",
    "axes[0].spines['bottom'].set_visible(False)\n",
    "axes[0].spines['left'].set_visible(False)\n",
    "\n",
    "axes[0].text(0.1,0.035,r'$\\rho^G_p = 0.89$',fontsize=20,transform=axes[0].transAxes, **hfont)\n",
    "\n",
    "\n",
    "\n",
    "axes[0].text(0.05, 0.95, '(a)',\n",
    "        verticalalignment='center', horizontalalignment='center',\n",
    "        \n",
    "       color='black',fontproperties=font1,fontsize=20,transform=axes[0].transAxes, **hfont)\n",
    "\n",
    "#########\n",
    "axes[1].text(0.5, 1.45, \n",
    "                'Slovenian',\n",
    "        verticalalignment='center', horizontalalignment='center',\n",
    "        \n",
    "        color='black',fontproperties=font1,fontsize=20,transform=axes[1].transAxes, **hfont)\n",
    "ka_agg_1.plot(ax=axes[1], column='yi_e_s_1', cmap='Purples', edgecolor='black',vmin=0,vmax=1)\n",
    "\n",
    "axes[1].set_yticklabels([])\n",
    "axes[1].set_xticklabels([])\n",
    "axes[1].set_yticks([])\n",
    "axes[1].set_xticks([])\n",
    "\n",
    "axes[1].spines['right'].set_visible(False)\n",
    "axes[1].spines['top'].set_visible(False)\n",
    "axes[1].spines['bottom'].set_visible(False)\n",
    "axes[1].spines['left'].set_visible(False)\n",
    "\n",
    "axes[1].text(0.1,0.035,r'$\\rho^S_p = 0.89$',fontsize=20,transform=axes[1].transAxes, **hfont)\n",
    "\n",
    "\n",
    "\n",
    "axes[1].text(0.05, 0.95, '(b)',\n",
    "        verticalalignment='center', horizontalalignment='center',\n",
    "        \n",
    "       color='black',fontproperties=font1,fontsize=20,transform=axes[1].transAxes, **hfont)\n",
    "\n",
    "\n",
    "\n",
    "\n",
    "\n",
    "vmin = 0\n",
    "vmax = 1\n",
    "fig.tight_layout()\n",
    "sm = plt.cm.ScalarMappable(cmap='Oranges', norm=plt.Normalize(vmin=vmin, vmax=vmax))\n",
    "sm._A = []\n",
    "sm_1 = plt.cm.ScalarMappable(cmap='Purples', norm=plt.Normalize(vmin=vmin, vmax=vmax))\n",
    "sm_1._A = []\n",
    "cbaxes = fig.add_axes([0.4735, 0.04, 0.012, 0.9]) \n",
    "cbar = fig.colorbar(sm,cax=cbaxes,orientation='vertical',ticks=[0, 0.5, 1])\n",
    "cbar.ax.tick_params(labelsize=20)\n",
    "cbaxes = fig.add_axes([.97, 0.04, 0.012, 0.9]) \n",
    "cbar = fig.colorbar(sm_1,cax=cbaxes,orientation='vertical',ticks=[0, 0.5, 1])\n",
    "cbar.ax.tick_params(labelsize=20)\n",
    "\n",
    "\n",
    "\n",
    "plt.savefig('carinthia_extra_map_1.pdf',bbox_inches='tight')"
   ]
  }
 ],
 "metadata": {
  "kernelspec": {
   "display_name": "sayatenv",
   "language": "python",
   "name": "myenv"
  }
 },
 "nbformat": 4,
 "nbformat_minor": 4
}
